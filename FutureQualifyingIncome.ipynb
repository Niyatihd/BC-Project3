{
 "cells": [
  {
   "cell_type": "code",
   "execution_count": 2,
   "metadata": {},
   "outputs": [],
   "source": [
    "import numpy as np\n",
    "import pandas as pd\n",
    "import matplotlib.pyplot as plt\n",
    "import json\n",
    "\n",
    "import csv\n",
    "import os"
   ]
  },
  {
   "cell_type": "code",
   "execution_count": 33,
   "metadata": {},
   "outputs": [
    {
     "data": {
      "text/html": [
       "<div>\n",
       "<style scoped>\n",
       "    .dataframe tbody tr th:only-of-type {\n",
       "        vertical-align: middle;\n",
       "    }\n",
       "\n",
       "    .dataframe tbody tr th {\n",
       "        vertical-align: top;\n",
       "    }\n",
       "\n",
       "    .dataframe thead th {\n",
       "        text-align: right;\n",
       "    }\n",
       "</style>\n",
       "<table border=\"1\" class=\"dataframe\">\n",
       "  <thead>\n",
       "    <tr style=\"text-align: right;\">\n",
       "      <th>Year</th>\n",
       "      <th>2020</th>\n",
       "      <th>2025</th>\n",
       "      <th>2030</th>\n",
       "      <th>2035</th>\n",
       "      <th>2040</th>\n",
       "    </tr>\n",
       "  </thead>\n",
       "  <tbody>\n",
       "    <tr>\n",
       "      <th>Avg.Median Home price</th>\n",
       "      <td>2234485.0</td>\n",
       "      <td>2320404.0</td>\n",
       "      <td>2436011.0</td>\n",
       "      <td>2532809.0</td>\n",
       "      <td>2643957.0</td>\n",
       "    </tr>\n",
       "    <tr>\n",
       "      <th>Qualifying Income</th>\n",
       "      <td>463392.0</td>\n",
       "      <td>481224.0</td>\n",
       "      <td>505176.0</td>\n",
       "      <td>525264.0</td>\n",
       "      <td>548304.0</td>\n",
       "    </tr>\n",
       "    <tr>\n",
       "      <th>AvgAnnualPay</th>\n",
       "      <td>77887.0</td>\n",
       "      <td>86448.0</td>\n",
       "      <td>95009.0</td>\n",
       "      <td>103570.0</td>\n",
       "      <td>112132.0</td>\n",
       "    </tr>\n",
       "  </tbody>\n",
       "</table>\n",
       "</div>"
      ],
      "text/plain": [
       "Year                        2020       2025       2030       2035       2040\n",
       "Avg.Median Home price  2234485.0  2320404.0  2436011.0  2532809.0  2643957.0\n",
       "Qualifying Income       463392.0   481224.0   505176.0   525264.0   548304.0\n",
       "AvgAnnualPay             77887.0    86448.0    95009.0   103570.0   112132.0"
      ]
     },
     "execution_count": 33,
     "metadata": {},
     "output_type": "execute_result"
    }
   ],
   "source": [
    "Employees_wt= 1\n",
    "Household_wt = 2\n",
    "Wage_wt = 2\n",
    "y_intercept = 10\n",
    "\n",
    "\n",
    "interestRate = 4.46\n",
    "            \n",
    "ForecastDF = pd.read_csv(os.path.join(\"resources\",\"BayAreaForecast\",\"County_HH_Jobs_Wage_Forecast_Updated.csv\"))\n",
    "#ForecastDF = CountyLevelDF.drop([\"Unnamed: 0\"], axis=1)\n",
    "ForecastDF = ForecastDF[[\"Year\",\"County\",\"AvgAnnualPay\",\"Jobs\",\"Households\"]]\n",
    "ForecastDF = ForecastDF.loc[ForecastDF[\"County\"] == \"Alameda\"]\n",
    "ForecastDF = ForecastDF.loc[ForecastDF[\"Year\"] >2015]\n",
    "ForecastDF [\"Avg.Median Home price\"] = y_intercept + (ForecastDF[\"AvgAnnualPay\"]*Wage_wt) + (ForecastDF[\"Jobs\"]*Employees_wt) +(ForecastDF[\"Households\"]*Household_wt)\n",
    "ForecastDF\n",
    "\n",
    "ForecastDF[\"MedLoanAmt\"] = ForecastDF[\"Avg.Median Home price\"] - ForecastDF[\"Avg.Median Home price\"]*0.2\n",
    "ForecastDF[\"MthlyMortPay\"] =  np.round((np.pmt(interestRate/1200,360,ForecastDF[\"MedLoanAmt\"]))*(-1))\n",
    "ForecastDF[\"MthlyTax\"]  =  np.round(ForecastDF[\"Avg.Median Home price\"]*0.01)/12\n",
    "ForecastDF[\"MthlyIns\"]  =np.round(ForecastDF[\"Avg.Median Home price\"] * 0.0038)/12\n",
    "ForecastDF[\"MthlyHousingCost\"] = ForecastDF[\"MthlyMortPay\"] +ForecastDF[\"MthlyTax\"] +ForecastDF[\"MthlyIns\"] \n",
    "ForecastDF[\"MthlyMinIncome\"]=  np.round(ForecastDF[\"MthlyHousingCost\"]/0.3)\n",
    "ForecastDF[\"Qualifying Income\"] = ForecastDF[\"MthlyMinIncome\"]*12\n",
    "ForecastDF = ForecastDF[[\"Year\",\"Avg.Median Home price\",\"Qualifying Income\",\"AvgAnnualPay\"]]\n",
    "ForecastDF.round()\n",
    "\n",
    "ForecastDF.set_index('Year',inplace=True)\n",
    "ForecastDFTransposed = ForecastDF.transpose()\n",
    "ForecastDFTransposed.round()\n",
    "ForecastDFTransposed\n",
    "ForecastDFTransposed.apply(np.round)\n",
    "ForecastDFTransposed"
   ]
  },
  {
   "cell_type": "code",
   "execution_count": null,
   "metadata": {},
   "outputs": [],
   "source": []
  },
  {
   "cell_type": "code",
   "execution_count": null,
   "metadata": {},
   "outputs": [],
   "source": []
  },
  {
   "cell_type": "code",
   "execution_count": null,
   "metadata": {},
   "outputs": [],
   "source": []
  }
 ],
 "metadata": {
  "kernelspec": {
   "display_name": "Python 3",
   "language": "python",
   "name": "python3"
  },
  "language_info": {
   "codemirror_mode": {
    "name": "ipython",
    "version": 3
   },
   "file_extension": ".py",
   "mimetype": "text/x-python",
   "name": "python",
   "nbconvert_exporter": "python",
   "pygments_lexer": "ipython3",
   "version": "3.6.5"
  }
 },
 "nbformat": 4,
 "nbformat_minor": 2
}
