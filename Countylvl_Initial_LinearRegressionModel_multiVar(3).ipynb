{
 "cells": [
  {
   "cell_type": "code",
   "execution_count": 1,
   "metadata": {
    "collapsed": true
   },
   "outputs": [],
   "source": [
    "import pandas as pd\n",
    "import numpy as np\n",
    "from pandas.plotting import scatter_matrix\n",
    "import matplotlib.pyplot as plt\n",
    "import seaborn as sns"
   ]
  },
  {
   "cell_type": "code",
   "execution_count": 2,
   "metadata": {
    "collapsed": true
   },
   "outputs": [],
   "source": [
    "df = pd.read_csv(\"resources/HistoricalData/CountyLevelSummary.csv\")"
   ]
  },
  {
   "cell_type": "code",
   "execution_count": 3,
   "metadata": {
    "collapsed": true
   },
   "outputs": [],
   "source": [
    "df.reset_index(inplace=True, drop=True)"
   ]
  },
  {
   "cell_type": "code",
   "execution_count": 4,
   "metadata": {
    "collapsed": true
   },
   "outputs": [],
   "source": [
    "df = df.drop([\"Unnamed: 0\", \"Year\"], axis=1)"
   ]
  },
  {
   "cell_type": "code",
   "execution_count": 5,
   "metadata": {
    "scrolled": true
   },
   "outputs": [
    {
     "data": {
      "text/html": [
       "<div>\n",
       "<style>\n",
       "    .dataframe thead tr:only-child th {\n",
       "        text-align: right;\n",
       "    }\n",
       "\n",
       "    .dataframe thead th {\n",
       "        text-align: left;\n",
       "    }\n",
       "\n",
       "    .dataframe tbody tr th {\n",
       "        vertical-align: top;\n",
       "    }\n",
       "</style>\n",
       "<table border=\"1\" class=\"dataframe\">\n",
       "  <thead>\n",
       "    <tr style=\"text-align: right;\">\n",
       "      <th></th>\n",
       "      <th>County</th>\n",
       "      <th>TotalPop</th>\n",
       "      <th>Employers</th>\n",
       "      <th>Employees</th>\n",
       "      <th>AvgAnnualPay</th>\n",
       "      <th>New Homes Constructed</th>\n",
       "      <th>Avg.Median Home price</th>\n",
       "      <th>EstHouseholds</th>\n",
       "      <th>Net_Migration</th>\n",
       "      <th>Immigration</th>\n",
       "      <th>Domestic_Migration</th>\n",
       "      <th>Interest_Rate</th>\n",
       "      <th>Description</th>\n",
       "    </tr>\n",
       "  </thead>\n",
       "  <tbody>\n",
       "    <tr>\n",
       "      <th>0</th>\n",
       "      <td>Alameda</td>\n",
       "      <td>1284782</td>\n",
       "      <td>35264</td>\n",
       "      <td>589348</td>\n",
       "      <td>29262</td>\n",
       "      <td>226</td>\n",
       "      <td>229890</td>\n",
       "      <td>483745</td>\n",
       "      <td>3684</td>\n",
       "      <td>8600</td>\n",
       "      <td>-4916</td>\n",
       "      <td>9.34</td>\n",
       "      <td>The City of San Francisco is known for being d...</td>\n",
       "    </tr>\n",
       "    <tr>\n",
       "      <th>1</th>\n",
       "      <td>Alameda</td>\n",
       "      <td>1302709</td>\n",
       "      <td>37575</td>\n",
       "      <td>580372</td>\n",
       "      <td>30739</td>\n",
       "      <td>2652</td>\n",
       "      <td>223200</td>\n",
       "      <td>485019</td>\n",
       "      <td>5100</td>\n",
       "      <td>8716</td>\n",
       "      <td>-3616</td>\n",
       "      <td>8.11</td>\n",
       "      <td>The City of San Francisco is known for being d...</td>\n",
       "    </tr>\n",
       "    <tr>\n",
       "      <th>2</th>\n",
       "      <td>Alameda</td>\n",
       "      <td>1318127</td>\n",
       "      <td>38998</td>\n",
       "      <td>581604</td>\n",
       "      <td>31202</td>\n",
       "      <td>3049</td>\n",
       "      <td>217370</td>\n",
       "      <td>488485</td>\n",
       "      <td>-432</td>\n",
       "      <td>9436</td>\n",
       "      <td>-9868</td>\n",
       "      <td>7.13</td>\n",
       "      <td>The City of San Francisco is known for being d...</td>\n",
       "    </tr>\n",
       "    <tr>\n",
       "      <th>3</th>\n",
       "      <td>Alameda</td>\n",
       "      <td>1327526</td>\n",
       "      <td>38190</td>\n",
       "      <td>582410</td>\n",
       "      <td>32175</td>\n",
       "      <td>2617</td>\n",
       "      <td>210010</td>\n",
       "      <td>492503</td>\n",
       "      <td>-5262</td>\n",
       "      <td>7689</td>\n",
       "      <td>-12951</td>\n",
       "      <td>7.49</td>\n",
       "      <td>The City of San Francisco is known for being d...</td>\n",
       "    </tr>\n",
       "    <tr>\n",
       "      <th>4</th>\n",
       "      <td>Alameda</td>\n",
       "      <td>1333031</td>\n",
       "      <td>41139</td>\n",
       "      <td>604087</td>\n",
       "      <td>33263</td>\n",
       "      <td>3515</td>\n",
       "      <td>207880</td>\n",
       "      <td>495897</td>\n",
       "      <td>-6877</td>\n",
       "      <td>6344</td>\n",
       "      <td>-13221</td>\n",
       "      <td>7.85</td>\n",
       "      <td>The City of San Francisco is known for being d...</td>\n",
       "    </tr>\n",
       "  </tbody>\n",
       "</table>\n",
       "</div>"
      ],
      "text/plain": [
       "    County  TotalPop  Employers  Employees  AvgAnnualPay  \\\n",
       "0  Alameda   1284782      35264     589348         29262   \n",
       "1  Alameda   1302709      37575     580372         30739   \n",
       "2  Alameda   1318127      38998     581604         31202   \n",
       "3  Alameda   1327526      38190     582410         32175   \n",
       "4  Alameda   1333031      41139     604087         33263   \n",
       "\n",
       "   New Homes Constructed  Avg.Median Home price  EstHouseholds  Net_Migration  \\\n",
       "0                    226                 229890         483745           3684   \n",
       "1                   2652                 223200         485019           5100   \n",
       "2                   3049                 217370         488485           -432   \n",
       "3                   2617                 210010         492503          -5262   \n",
       "4                   3515                 207880         495897          -6877   \n",
       "\n",
       "   Immigration  Domestic_Migration  Interest_Rate  \\\n",
       "0         8600               -4916           9.34   \n",
       "1         8716               -3616           8.11   \n",
       "2         9436               -9868           7.13   \n",
       "3         7689              -12951           7.49   \n",
       "4         6344              -13221           7.85   \n",
       "\n",
       "                                         Description  \n",
       "0  The City of San Francisco is known for being d...  \n",
       "1  The City of San Francisco is known for being d...  \n",
       "2  The City of San Francisco is known for being d...  \n",
       "3  The City of San Francisco is known for being d...  \n",
       "4  The City of San Francisco is known for being d...  "
      ]
     },
     "execution_count": 5,
     "metadata": {},
     "output_type": "execute_result"
    }
   ],
   "source": [
    "df.head()"
   ]
  },
  {
   "cell_type": "code",
   "execution_count": 8,
   "metadata": {},
   "outputs": [
    {
     "data": {
      "text/html": [
       "<div>\n",
       "<style>\n",
       "    .dataframe thead tr:only-child th {\n",
       "        text-align: right;\n",
       "    }\n",
       "\n",
       "    .dataframe thead th {\n",
       "        text-align: left;\n",
       "    }\n",
       "\n",
       "    .dataframe tbody tr th {\n",
       "        vertical-align: top;\n",
       "    }\n",
       "</style>\n",
       "<table border=\"1\" class=\"dataframe\">\n",
       "  <thead>\n",
       "    <tr style=\"text-align: right;\">\n",
       "      <th></th>\n",
       "      <th>TotalPop</th>\n",
       "      <th>Employers</th>\n",
       "      <th>Employees</th>\n",
       "      <th>AvgAnnualPay</th>\n",
       "      <th>New Homes Constructed</th>\n",
       "      <th>Avg.Median Home price</th>\n",
       "      <th>EstHouseholds</th>\n",
       "      <th>Net_Migration</th>\n",
       "      <th>Immigration</th>\n",
       "      <th>Domestic_Migration</th>\n",
       "      <th>Interest_Rate</th>\n",
       "    </tr>\n",
       "  </thead>\n",
       "  <tbody>\n",
       "    <tr>\n",
       "      <th>TotalPop</th>\n",
       "      <td>1.000000</td>\n",
       "      <td>0.907208</td>\n",
       "      <td>0.940317</td>\n",
       "      <td>0.479243</td>\n",
       "      <td>0.729296</td>\n",
       "      <td>0.113716</td>\n",
       "      <td>0.993136</td>\n",
       "      <td>0.065819</td>\n",
       "      <td>0.875086</td>\n",
       "      <td>-0.471350</td>\n",
       "      <td>-0.091506</td>\n",
       "    </tr>\n",
       "    <tr>\n",
       "      <th>Employers</th>\n",
       "      <td>0.907208</td>\n",
       "      <td>1.000000</td>\n",
       "      <td>0.957169</td>\n",
       "      <td>0.613709</td>\n",
       "      <td>0.650638</td>\n",
       "      <td>0.306994</td>\n",
       "      <td>0.936773</td>\n",
       "      <td>0.110530</td>\n",
       "      <td>0.874602</td>\n",
       "      <td>-0.436554</td>\n",
       "      <td>-0.179128</td>\n",
       "    </tr>\n",
       "    <tr>\n",
       "      <th>Employees</th>\n",
       "      <td>0.940317</td>\n",
       "      <td>0.957169</td>\n",
       "      <td>1.000000</td>\n",
       "      <td>0.542740</td>\n",
       "      <td>0.700474</td>\n",
       "      <td>0.222352</td>\n",
       "      <td>0.951821</td>\n",
       "      <td>0.037001</td>\n",
       "      <td>0.938714</td>\n",
       "      <td>-0.531557</td>\n",
       "      <td>-0.053725</td>\n",
       "    </tr>\n",
       "    <tr>\n",
       "      <th>AvgAnnualPay</th>\n",
       "      <td>0.479243</td>\n",
       "      <td>0.613709</td>\n",
       "      <td>0.542740</td>\n",
       "      <td>1.000000</td>\n",
       "      <td>0.247141</td>\n",
       "      <td>0.798500</td>\n",
       "      <td>0.478239</td>\n",
       "      <td>0.067019</td>\n",
       "      <td>0.438667</td>\n",
       "      <td>-0.210020</td>\n",
       "      <td>-0.669298</td>\n",
       "    </tr>\n",
       "    <tr>\n",
       "      <th>New Homes Constructed</th>\n",
       "      <td>0.729296</td>\n",
       "      <td>0.650638</td>\n",
       "      <td>0.700474</td>\n",
       "      <td>0.247141</td>\n",
       "      <td>1.000000</td>\n",
       "      <td>0.049628</td>\n",
       "      <td>0.727517</td>\n",
       "      <td>0.083764</td>\n",
       "      <td>0.638645</td>\n",
       "      <td>-0.316420</td>\n",
       "      <td>0.117788</td>\n",
       "    </tr>\n",
       "    <tr>\n",
       "      <th>Avg.Median Home price</th>\n",
       "      <td>0.113716</td>\n",
       "      <td>0.306994</td>\n",
       "      <td>0.222352</td>\n",
       "      <td>0.798500</td>\n",
       "      <td>0.049628</td>\n",
       "      <td>1.000000</td>\n",
       "      <td>0.130130</td>\n",
       "      <td>-0.097229</td>\n",
       "      <td>0.163114</td>\n",
       "      <td>-0.172367</td>\n",
       "      <td>-0.560998</td>\n",
       "    </tr>\n",
       "    <tr>\n",
       "      <th>EstHouseholds</th>\n",
       "      <td>0.993136</td>\n",
       "      <td>0.936773</td>\n",
       "      <td>0.951821</td>\n",
       "      <td>0.478239</td>\n",
       "      <td>0.727517</td>\n",
       "      <td>0.130130</td>\n",
       "      <td>1.000000</td>\n",
       "      <td>0.075769</td>\n",
       "      <td>0.887665</td>\n",
       "      <td>-0.471177</td>\n",
       "      <td>-0.078207</td>\n",
       "    </tr>\n",
       "    <tr>\n",
       "      <th>Net_Migration</th>\n",
       "      <td>0.065819</td>\n",
       "      <td>0.110530</td>\n",
       "      <td>0.037001</td>\n",
       "      <td>0.067019</td>\n",
       "      <td>0.083764</td>\n",
       "      <td>-0.097229</td>\n",
       "      <td>0.075769</td>\n",
       "      <td>1.000000</td>\n",
       "      <td>-0.052456</td>\n",
       "      <td>0.803087</td>\n",
       "      <td>-0.032348</td>\n",
       "    </tr>\n",
       "    <tr>\n",
       "      <th>Immigration</th>\n",
       "      <td>0.875086</td>\n",
       "      <td>0.874602</td>\n",
       "      <td>0.938714</td>\n",
       "      <td>0.438667</td>\n",
       "      <td>0.638645</td>\n",
       "      <td>0.163114</td>\n",
       "      <td>0.887665</td>\n",
       "      <td>-0.052456</td>\n",
       "      <td>1.000000</td>\n",
       "      <td>-0.637167</td>\n",
       "      <td>0.038479</td>\n",
       "    </tr>\n",
       "    <tr>\n",
       "      <th>Domestic_Migration</th>\n",
       "      <td>-0.471350</td>\n",
       "      <td>-0.436554</td>\n",
       "      <td>-0.531557</td>\n",
       "      <td>-0.210020</td>\n",
       "      <td>-0.316420</td>\n",
       "      <td>-0.172367</td>\n",
       "      <td>-0.471177</td>\n",
       "      <td>0.803087</td>\n",
       "      <td>-0.637167</td>\n",
       "      <td>1.000000</td>\n",
       "      <td>-0.047925</td>\n",
       "    </tr>\n",
       "    <tr>\n",
       "      <th>Interest_Rate</th>\n",
       "      <td>-0.091506</td>\n",
       "      <td>-0.179128</td>\n",
       "      <td>-0.053725</td>\n",
       "      <td>-0.669298</td>\n",
       "      <td>0.117788</td>\n",
       "      <td>-0.560998</td>\n",
       "      <td>-0.078207</td>\n",
       "      <td>-0.032348</td>\n",
       "      <td>0.038479</td>\n",
       "      <td>-0.047925</td>\n",
       "      <td>1.000000</td>\n",
       "    </tr>\n",
       "  </tbody>\n",
       "</table>\n",
       "</div>"
      ],
      "text/plain": [
       "                       TotalPop  Employers  Employees  AvgAnnualPay  \\\n",
       "TotalPop               1.000000   0.907208   0.940317      0.479243   \n",
       "Employers              0.907208   1.000000   0.957169      0.613709   \n",
       "Employees              0.940317   0.957169   1.000000      0.542740   \n",
       "AvgAnnualPay           0.479243   0.613709   0.542740      1.000000   \n",
       "New Homes Constructed  0.729296   0.650638   0.700474      0.247141   \n",
       "Avg.Median Home price  0.113716   0.306994   0.222352      0.798500   \n",
       "EstHouseholds          0.993136   0.936773   0.951821      0.478239   \n",
       "Net_Migration          0.065819   0.110530   0.037001      0.067019   \n",
       "Immigration            0.875086   0.874602   0.938714      0.438667   \n",
       "Domestic_Migration    -0.471350  -0.436554  -0.531557     -0.210020   \n",
       "Interest_Rate         -0.091506  -0.179128  -0.053725     -0.669298   \n",
       "\n",
       "                       New Homes Constructed  Avg.Median Home price  \\\n",
       "TotalPop                            0.729296               0.113716   \n",
       "Employers                           0.650638               0.306994   \n",
       "Employees                           0.700474               0.222352   \n",
       "AvgAnnualPay                        0.247141               0.798500   \n",
       "New Homes Constructed               1.000000               0.049628   \n",
       "Avg.Median Home price               0.049628               1.000000   \n",
       "EstHouseholds                       0.727517               0.130130   \n",
       "Net_Migration                       0.083764              -0.097229   \n",
       "Immigration                         0.638645               0.163114   \n",
       "Domestic_Migration                 -0.316420              -0.172367   \n",
       "Interest_Rate                       0.117788              -0.560998   \n",
       "\n",
       "                       EstHouseholds  Net_Migration  Immigration  \\\n",
       "TotalPop                    0.993136       0.065819     0.875086   \n",
       "Employers                   0.936773       0.110530     0.874602   \n",
       "Employees                   0.951821       0.037001     0.938714   \n",
       "AvgAnnualPay                0.478239       0.067019     0.438667   \n",
       "New Homes Constructed       0.727517       0.083764     0.638645   \n",
       "Avg.Median Home price       0.130130      -0.097229     0.163114   \n",
       "EstHouseholds               1.000000       0.075769     0.887665   \n",
       "Net_Migration               0.075769       1.000000    -0.052456   \n",
       "Immigration                 0.887665      -0.052456     1.000000   \n",
       "Domestic_Migration         -0.471177       0.803087    -0.637167   \n",
       "Interest_Rate              -0.078207      -0.032348     0.038479   \n",
       "\n",
       "                       Domestic_Migration  Interest_Rate  \n",
       "TotalPop                        -0.471350      -0.091506  \n",
       "Employers                       -0.436554      -0.179128  \n",
       "Employees                       -0.531557      -0.053725  \n",
       "AvgAnnualPay                    -0.210020      -0.669298  \n",
       "New Homes Constructed           -0.316420       0.117788  \n",
       "Avg.Median Home price           -0.172367      -0.560998  \n",
       "EstHouseholds                   -0.471177      -0.078207  \n",
       "Net_Migration                    0.803087      -0.032348  \n",
       "Immigration                     -0.637167       0.038479  \n",
       "Domestic_Migration               1.000000      -0.047925  \n",
       "Interest_Rate                   -0.047925       1.000000  "
      ]
     },
     "execution_count": 8,
     "metadata": {},
     "output_type": "execute_result"
    }
   ],
   "source": [
    "df.corr()"
   ]
  },
  {
   "cell_type": "code",
   "execution_count": 9,
   "metadata": {
    "collapsed": true
   },
   "outputs": [],
   "source": [
    "df_alameda = df.loc[df[\"County\"] ==\"Alameda\"]"
   ]
  },
  {
   "cell_type": "code",
   "execution_count": 10,
   "metadata": {},
   "outputs": [
    {
     "data": {
      "text/html": [
       "<div>\n",
       "<style>\n",
       "    .dataframe thead tr:only-child th {\n",
       "        text-align: right;\n",
       "    }\n",
       "\n",
       "    .dataframe thead th {\n",
       "        text-align: left;\n",
       "    }\n",
       "\n",
       "    .dataframe tbody tr th {\n",
       "        vertical-align: top;\n",
       "    }\n",
       "</style>\n",
       "<table border=\"1\" class=\"dataframe\">\n",
       "  <thead>\n",
       "    <tr style=\"text-align: right;\">\n",
       "      <th></th>\n",
       "      <th>County</th>\n",
       "      <th>TotalPop</th>\n",
       "      <th>Employers</th>\n",
       "      <th>Employees</th>\n",
       "      <th>AvgAnnualPay</th>\n",
       "      <th>New Homes Constructed</th>\n",
       "      <th>Avg.Median Home price</th>\n",
       "      <th>EstHouseholds</th>\n",
       "      <th>Net_Migration</th>\n",
       "      <th>Immigration</th>\n",
       "      <th>Domestic_Migration</th>\n",
       "      <th>Interest_Rate</th>\n",
       "      <th>Description</th>\n",
       "    </tr>\n",
       "  </thead>\n",
       "  <tbody>\n",
       "    <tr>\n",
       "      <th>0</th>\n",
       "      <td>Alameda</td>\n",
       "      <td>1284782</td>\n",
       "      <td>35264</td>\n",
       "      <td>589348</td>\n",
       "      <td>29262</td>\n",
       "      <td>226</td>\n",
       "      <td>229890</td>\n",
       "      <td>483745</td>\n",
       "      <td>3684</td>\n",
       "      <td>8600</td>\n",
       "      <td>-4916</td>\n",
       "      <td>9.34</td>\n",
       "      <td>The City of San Francisco is known for being d...</td>\n",
       "    </tr>\n",
       "    <tr>\n",
       "      <th>1</th>\n",
       "      <td>Alameda</td>\n",
       "      <td>1302709</td>\n",
       "      <td>37575</td>\n",
       "      <td>580372</td>\n",
       "      <td>30739</td>\n",
       "      <td>2652</td>\n",
       "      <td>223200</td>\n",
       "      <td>485019</td>\n",
       "      <td>5100</td>\n",
       "      <td>8716</td>\n",
       "      <td>-3616</td>\n",
       "      <td>8.11</td>\n",
       "      <td>The City of San Francisco is known for being d...</td>\n",
       "    </tr>\n",
       "    <tr>\n",
       "      <th>2</th>\n",
       "      <td>Alameda</td>\n",
       "      <td>1318127</td>\n",
       "      <td>38998</td>\n",
       "      <td>581604</td>\n",
       "      <td>31202</td>\n",
       "      <td>3049</td>\n",
       "      <td>217370</td>\n",
       "      <td>488485</td>\n",
       "      <td>-432</td>\n",
       "      <td>9436</td>\n",
       "      <td>-9868</td>\n",
       "      <td>7.13</td>\n",
       "      <td>The City of San Francisco is known for being d...</td>\n",
       "    </tr>\n",
       "    <tr>\n",
       "      <th>3</th>\n",
       "      <td>Alameda</td>\n",
       "      <td>1327526</td>\n",
       "      <td>38190</td>\n",
       "      <td>582410</td>\n",
       "      <td>32175</td>\n",
       "      <td>2617</td>\n",
       "      <td>210010</td>\n",
       "      <td>492503</td>\n",
       "      <td>-5262</td>\n",
       "      <td>7689</td>\n",
       "      <td>-12951</td>\n",
       "      <td>7.49</td>\n",
       "      <td>The City of San Francisco is known for being d...</td>\n",
       "    </tr>\n",
       "    <tr>\n",
       "      <th>4</th>\n",
       "      <td>Alameda</td>\n",
       "      <td>1333031</td>\n",
       "      <td>41139</td>\n",
       "      <td>604087</td>\n",
       "      <td>33263</td>\n",
       "      <td>3515</td>\n",
       "      <td>207880</td>\n",
       "      <td>495897</td>\n",
       "      <td>-6877</td>\n",
       "      <td>6344</td>\n",
       "      <td>-13221</td>\n",
       "      <td>7.85</td>\n",
       "      <td>The City of San Francisco is known for being d...</td>\n",
       "    </tr>\n",
       "  </tbody>\n",
       "</table>\n",
       "</div>"
      ],
      "text/plain": [
       "    County  TotalPop  Employers  Employees  AvgAnnualPay  \\\n",
       "0  Alameda   1284782      35264     589348         29262   \n",
       "1  Alameda   1302709      37575     580372         30739   \n",
       "2  Alameda   1318127      38998     581604         31202   \n",
       "3  Alameda   1327526      38190     582410         32175   \n",
       "4  Alameda   1333031      41139     604087         33263   \n",
       "\n",
       "   New Homes Constructed  Avg.Median Home price  EstHouseholds  Net_Migration  \\\n",
       "0                    226                 229890         483745           3684   \n",
       "1                   2652                 223200         485019           5100   \n",
       "2                   3049                 217370         488485           -432   \n",
       "3                   2617                 210010         492503          -5262   \n",
       "4                   3515                 207880         495897          -6877   \n",
       "\n",
       "   Immigration  Domestic_Migration  Interest_Rate  \\\n",
       "0         8600               -4916           9.34   \n",
       "1         8716               -3616           8.11   \n",
       "2         9436               -9868           7.13   \n",
       "3         7689              -12951           7.49   \n",
       "4         6344              -13221           7.85   \n",
       "\n",
       "                                         Description  \n",
       "0  The City of San Francisco is known for being d...  \n",
       "1  The City of San Francisco is known for being d...  \n",
       "2  The City of San Francisco is known for being d...  \n",
       "3  The City of San Francisco is known for being d...  \n",
       "4  The City of San Francisco is known for being d...  "
      ]
     },
     "execution_count": 10,
     "metadata": {},
     "output_type": "execute_result"
    }
   ],
   "source": [
    "df_alameda.head()"
   ]
  },
  {
   "cell_type": "code",
   "execution_count": 11,
   "metadata": {},
   "outputs": [
    {
     "data": {
      "text/plain": [
       "count        26.000000\n",
       "mean     431955.500000\n",
       "std      184526.188613\n",
       "min      207880.000000\n",
       "25%      237292.500000\n",
       "50%      416635.000000\n",
       "75%      579760.000000\n",
       "max      780000.000000\n",
       "Name: Avg.Median Home price, dtype: float64"
      ]
     },
     "execution_count": 11,
     "metadata": {},
     "output_type": "execute_result"
    }
   ],
   "source": [
    "df_alameda[\"Avg.Median Home price\"].describe()"
   ]
  },
  {
   "cell_type": "code",
   "execution_count": 12,
   "metadata": {},
   "outputs": [
    {
     "data": {
      "text/html": [
       "<div>\n",
       "<style>\n",
       "    .dataframe thead tr:only-child th {\n",
       "        text-align: right;\n",
       "    }\n",
       "\n",
       "    .dataframe thead th {\n",
       "        text-align: left;\n",
       "    }\n",
       "\n",
       "    .dataframe tbody tr th {\n",
       "        vertical-align: top;\n",
       "    }\n",
       "</style>\n",
       "<table border=\"1\" class=\"dataframe\">\n",
       "  <thead>\n",
       "    <tr style=\"text-align: right;\">\n",
       "      <th></th>\n",
       "      <th>TotalPop</th>\n",
       "      <th>Employers</th>\n",
       "      <th>Employees</th>\n",
       "      <th>AvgAnnualPay</th>\n",
       "      <th>New Homes Constructed</th>\n",
       "      <th>Avg.Median Home price</th>\n",
       "      <th>EstHouseholds</th>\n",
       "      <th>Net_Migration</th>\n",
       "      <th>Immigration</th>\n",
       "      <th>Domestic_Migration</th>\n",
       "      <th>Interest_Rate</th>\n",
       "    </tr>\n",
       "  </thead>\n",
       "  <tbody>\n",
       "    <tr>\n",
       "      <th>TotalPop</th>\n",
       "      <td>1.000000</td>\n",
       "      <td>0.971804</td>\n",
       "      <td>0.813726</td>\n",
       "      <td>0.975461</td>\n",
       "      <td>-0.090933</td>\n",
       "      <td>0.835920</td>\n",
       "      <td>0.990542</td>\n",
       "      <td>0.161290</td>\n",
       "      <td>0.431816</td>\n",
       "      <td>0.073320</td>\n",
       "      <td>-0.924771</td>\n",
       "    </tr>\n",
       "    <tr>\n",
       "      <th>Employers</th>\n",
       "      <td>0.971804</td>\n",
       "      <td>1.000000</td>\n",
       "      <td>0.711834</td>\n",
       "      <td>0.979868</td>\n",
       "      <td>-0.170805</td>\n",
       "      <td>0.783928</td>\n",
       "      <td>0.975713</td>\n",
       "      <td>0.144846</td>\n",
       "      <td>0.337075</td>\n",
       "      <td>0.075543</td>\n",
       "      <td>-0.938468</td>\n",
       "    </tr>\n",
       "    <tr>\n",
       "      <th>Employees</th>\n",
       "      <td>0.813726</td>\n",
       "      <td>0.711834</td>\n",
       "      <td>1.000000</td>\n",
       "      <td>0.745824</td>\n",
       "      <td>0.352906</td>\n",
       "      <td>0.824421</td>\n",
       "      <td>0.803312</td>\n",
       "      <td>0.141829</td>\n",
       "      <td>0.614992</td>\n",
       "      <td>0.019482</td>\n",
       "      <td>-0.577552</td>\n",
       "    </tr>\n",
       "    <tr>\n",
       "      <th>AvgAnnualPay</th>\n",
       "      <td>0.975461</td>\n",
       "      <td>0.979868</td>\n",
       "      <td>0.745824</td>\n",
       "      <td>1.000000</td>\n",
       "      <td>-0.144711</td>\n",
       "      <td>0.848847</td>\n",
       "      <td>0.991876</td>\n",
       "      <td>0.114171</td>\n",
       "      <td>0.403226</td>\n",
       "      <td>0.033245</td>\n",
       "      <td>-0.915722</td>\n",
       "    </tr>\n",
       "    <tr>\n",
       "      <th>New Homes Constructed</th>\n",
       "      <td>-0.090933</td>\n",
       "      <td>-0.170805</td>\n",
       "      <td>0.352906</td>\n",
       "      <td>-0.144711</td>\n",
       "      <td>1.000000</td>\n",
       "      <td>0.052245</td>\n",
       "      <td>-0.074857</td>\n",
       "      <td>-0.019000</td>\n",
       "      <td>0.111774</td>\n",
       "      <td>-0.039739</td>\n",
       "      <td>0.236171</td>\n",
       "    </tr>\n",
       "    <tr>\n",
       "      <th>Avg.Median Home price</th>\n",
       "      <td>0.835920</td>\n",
       "      <td>0.783928</td>\n",
       "      <td>0.824421</td>\n",
       "      <td>0.848847</td>\n",
       "      <td>0.052245</td>\n",
       "      <td>1.000000</td>\n",
       "      <td>0.851533</td>\n",
       "      <td>-0.137122</td>\n",
       "      <td>0.569903</td>\n",
       "      <td>-0.241518</td>\n",
       "      <td>-0.711596</td>\n",
       "    </tr>\n",
       "    <tr>\n",
       "      <th>EstHouseholds</th>\n",
       "      <td>0.990542</td>\n",
       "      <td>0.975713</td>\n",
       "      <td>0.803312</td>\n",
       "      <td>0.991876</td>\n",
       "      <td>-0.074857</td>\n",
       "      <td>0.851533</td>\n",
       "      <td>1.000000</td>\n",
       "      <td>0.115384</td>\n",
       "      <td>0.422113</td>\n",
       "      <td>0.030805</td>\n",
       "      <td>-0.912195</td>\n",
       "    </tr>\n",
       "    <tr>\n",
       "      <th>Net_Migration</th>\n",
       "      <td>0.161290</td>\n",
       "      <td>0.144846</td>\n",
       "      <td>0.141829</td>\n",
       "      <td>0.114171</td>\n",
       "      <td>-0.019000</td>\n",
       "      <td>-0.137122</td>\n",
       "      <td>0.115384</td>\n",
       "      <td>1.000000</td>\n",
       "      <td>-0.079000</td>\n",
       "      <td>0.981662</td>\n",
       "      <td>-0.080446</td>\n",
       "    </tr>\n",
       "    <tr>\n",
       "      <th>Immigration</th>\n",
       "      <td>0.431816</td>\n",
       "      <td>0.337075</td>\n",
       "      <td>0.614992</td>\n",
       "      <td>0.403226</td>\n",
       "      <td>0.111774</td>\n",
       "      <td>0.569903</td>\n",
       "      <td>0.422113</td>\n",
       "      <td>-0.079000</td>\n",
       "      <td>1.000000</td>\n",
       "      <td>-0.267586</td>\n",
       "      <td>-0.231920</td>\n",
       "    </tr>\n",
       "    <tr>\n",
       "      <th>Domestic_Migration</th>\n",
       "      <td>0.073320</td>\n",
       "      <td>0.075543</td>\n",
       "      <td>0.019482</td>\n",
       "      <td>0.033245</td>\n",
       "      <td>-0.039739</td>\n",
       "      <td>-0.241518</td>\n",
       "      <td>0.030805</td>\n",
       "      <td>0.981662</td>\n",
       "      <td>-0.267586</td>\n",
       "      <td>1.000000</td>\n",
       "      <td>-0.033406</td>\n",
       "    </tr>\n",
       "    <tr>\n",
       "      <th>Interest_Rate</th>\n",
       "      <td>-0.924771</td>\n",
       "      <td>-0.938468</td>\n",
       "      <td>-0.577552</td>\n",
       "      <td>-0.915722</td>\n",
       "      <td>0.236171</td>\n",
       "      <td>-0.711596</td>\n",
       "      <td>-0.912195</td>\n",
       "      <td>-0.080446</td>\n",
       "      <td>-0.231920</td>\n",
       "      <td>-0.033406</td>\n",
       "      <td>1.000000</td>\n",
       "    </tr>\n",
       "  </tbody>\n",
       "</table>\n",
       "</div>"
      ],
      "text/plain": [
       "                       TotalPop  Employers  Employees  AvgAnnualPay  \\\n",
       "TotalPop               1.000000   0.971804   0.813726      0.975461   \n",
       "Employers              0.971804   1.000000   0.711834      0.979868   \n",
       "Employees              0.813726   0.711834   1.000000      0.745824   \n",
       "AvgAnnualPay           0.975461   0.979868   0.745824      1.000000   \n",
       "New Homes Constructed -0.090933  -0.170805   0.352906     -0.144711   \n",
       "Avg.Median Home price  0.835920   0.783928   0.824421      0.848847   \n",
       "EstHouseholds          0.990542   0.975713   0.803312      0.991876   \n",
       "Net_Migration          0.161290   0.144846   0.141829      0.114171   \n",
       "Immigration            0.431816   0.337075   0.614992      0.403226   \n",
       "Domestic_Migration     0.073320   0.075543   0.019482      0.033245   \n",
       "Interest_Rate         -0.924771  -0.938468  -0.577552     -0.915722   \n",
       "\n",
       "                       New Homes Constructed  Avg.Median Home price  \\\n",
       "TotalPop                           -0.090933               0.835920   \n",
       "Employers                          -0.170805               0.783928   \n",
       "Employees                           0.352906               0.824421   \n",
       "AvgAnnualPay                       -0.144711               0.848847   \n",
       "New Homes Constructed               1.000000               0.052245   \n",
       "Avg.Median Home price               0.052245               1.000000   \n",
       "EstHouseholds                      -0.074857               0.851533   \n",
       "Net_Migration                      -0.019000              -0.137122   \n",
       "Immigration                         0.111774               0.569903   \n",
       "Domestic_Migration                 -0.039739              -0.241518   \n",
       "Interest_Rate                       0.236171              -0.711596   \n",
       "\n",
       "                       EstHouseholds  Net_Migration  Immigration  \\\n",
       "TotalPop                    0.990542       0.161290     0.431816   \n",
       "Employers                   0.975713       0.144846     0.337075   \n",
       "Employees                   0.803312       0.141829     0.614992   \n",
       "AvgAnnualPay                0.991876       0.114171     0.403226   \n",
       "New Homes Constructed      -0.074857      -0.019000     0.111774   \n",
       "Avg.Median Home price       0.851533      -0.137122     0.569903   \n",
       "EstHouseholds               1.000000       0.115384     0.422113   \n",
       "Net_Migration               0.115384       1.000000    -0.079000   \n",
       "Immigration                 0.422113      -0.079000     1.000000   \n",
       "Domestic_Migration          0.030805       0.981662    -0.267586   \n",
       "Interest_Rate              -0.912195      -0.080446    -0.231920   \n",
       "\n",
       "                       Domestic_Migration  Interest_Rate  \n",
       "TotalPop                         0.073320      -0.924771  \n",
       "Employers                        0.075543      -0.938468  \n",
       "Employees                        0.019482      -0.577552  \n",
       "AvgAnnualPay                     0.033245      -0.915722  \n",
       "New Homes Constructed           -0.039739       0.236171  \n",
       "Avg.Median Home price           -0.241518      -0.711596  \n",
       "EstHouseholds                    0.030805      -0.912195  \n",
       "Net_Migration                    0.981662      -0.080446  \n",
       "Immigration                     -0.267586      -0.231920  \n",
       "Domestic_Migration               1.000000      -0.033406  \n",
       "Interest_Rate                   -0.033406       1.000000  "
      ]
     },
     "execution_count": 12,
     "metadata": {},
     "output_type": "execute_result"
    }
   ],
   "source": [
    "df_alameda.corr()"
   ]
  },
  {
   "cell_type": "code",
   "execution_count": 16,
   "metadata": {
    "collapsed": true
   },
   "outputs": [],
   "source": [
    "df_new = df_alameda[[\"Avg.Median Home price\",\"Immigration\",\"Employers\", \"Employees\",\"AvgAnnualPay\",\"New Homes Constructed\",\"EstHouseholds\"]]"
   ]
  },
  {
   "cell_type": "code",
   "execution_count": 17,
   "metadata": {},
   "outputs": [
    {
     "data": {
      "text/plain": [
       "array([[<matplotlib.axes._subplots.AxesSubplot object at 0x10c3e7f98>,\n",
       "        <matplotlib.axes._subplots.AxesSubplot object at 0x10c5de278>,\n",
       "        <matplotlib.axes._subplots.AxesSubplot object at 0x10c618278>,\n",
       "        <matplotlib.axes._subplots.AxesSubplot object at 0x10c650278>,\n",
       "        <matplotlib.axes._subplots.AxesSubplot object at 0x10c688278>,\n",
       "        <matplotlib.axes._subplots.AxesSubplot object at 0x10c6882b0>,\n",
       "        <matplotlib.axes._subplots.AxesSubplot object at 0x10c6e6ba8>],\n",
       "       [<matplotlib.axes._subplots.AxesSubplot object at 0x10c7078d0>,\n",
       "        <matplotlib.axes._subplots.AxesSubplot object at 0x10c75bb38>,\n",
       "        <matplotlib.axes._subplots.AxesSubplot object at 0x10c6f2fd0>,\n",
       "        <matplotlib.axes._subplots.AxesSubplot object at 0x10c7c8748>,\n",
       "        <matplotlib.axes._subplots.AxesSubplot object at 0x10c800c18>,\n",
       "        <matplotlib.axes._subplots.AxesSubplot object at 0x10c841198>,\n",
       "        <matplotlib.axes._subplots.AxesSubplot object at 0x1a12069fd0>],\n",
       "       [<matplotlib.axes._subplots.AxesSubplot object at 0x1a120b1208>,\n",
       "        <matplotlib.axes._subplots.AxesSubplot object at 0x1a120ea588>,\n",
       "        <matplotlib.axes._subplots.AxesSubplot object at 0x1a121097b8>,\n",
       "        <matplotlib.axes._subplots.AxesSubplot object at 0x1a1215d518>,\n",
       "        <matplotlib.axes._subplots.AxesSubplot object at 0x1a12184ba8>,\n",
       "        <matplotlib.axes._subplots.AxesSubplot object at 0x1a121bdc88>,\n",
       "        <matplotlib.axes._subplots.AxesSubplot object at 0x1a121f7c88>],\n",
       "       [<matplotlib.axes._subplots.AxesSubplot object at 0x1a12230c88>,\n",
       "        <matplotlib.axes._subplots.AxesSubplot object at 0x1a122154e0>,\n",
       "        <matplotlib.axes._subplots.AxesSubplot object at 0x1a1229b7b8>,\n",
       "        <matplotlib.axes._subplots.AxesSubplot object at 0x1a122d67b8>,\n",
       "        <matplotlib.axes._subplots.AxesSubplot object at 0x1a1230e7b8>,\n",
       "        <matplotlib.axes._subplots.AxesSubplot object at 0x1a12347cf8>,\n",
       "        <matplotlib.axes._subplots.AxesSubplot object at 0x1a1237c278>],\n",
       "       [<matplotlib.axes._subplots.AxesSubplot object at 0x1a123b6278>,\n",
       "        <matplotlib.axes._subplots.AxesSubplot object at 0x1a123ee278>,\n",
       "        <matplotlib.axes._subplots.AxesSubplot object at 0x1a124257b8>,\n",
       "        <matplotlib.axes._subplots.AxesSubplot object at 0x1a123585c0>,\n",
       "        <matplotlib.axes._subplots.AxesSubplot object at 0x1a12480cf8>,\n",
       "        <matplotlib.axes._subplots.AxesSubplot object at 0x1a124bccf8>,\n",
       "        <matplotlib.axes._subplots.AxesSubplot object at 0x1a124f3cf8>],\n",
       "       [<matplotlib.axes._subplots.AxesSubplot object at 0x1a12536278>,\n",
       "        <matplotlib.axes._subplots.AxesSubplot object at 0x1a1255f7b8>,\n",
       "        <matplotlib.axes._subplots.AxesSubplot object at 0x1a125997b8>,\n",
       "        <matplotlib.axes._subplots.AxesSubplot object at 0x1a125d47b8>,\n",
       "        <matplotlib.axes._subplots.AxesSubplot object at 0x1a1260ccf8>,\n",
       "        <matplotlib.axes._subplots.AxesSubplot object at 0x1a12641198>,\n",
       "        <matplotlib.axes._subplots.AxesSubplot object at 0x1a12679128>],\n",
       "       [<matplotlib.axes._subplots.AxesSubplot object at 0x1a126b3128>,\n",
       "        <matplotlib.axes._subplots.AxesSubplot object at 0x1a126e8668>,\n",
       "        <matplotlib.axes._subplots.AxesSubplot object at 0x1a126f4cf8>,\n",
       "        <matplotlib.axes._subplots.AxesSubplot object at 0x1a1274ec18>,\n",
       "        <matplotlib.axes._subplots.AxesSubplot object at 0x1a12784c18>,\n",
       "        <matplotlib.axes._subplots.AxesSubplot object at 0x1a127c8198>,\n",
       "        <matplotlib.axes._subplots.AxesSubplot object at 0x1a12801128>]], dtype=object)"
      ]
     },
     "execution_count": 17,
     "metadata": {},
     "output_type": "execute_result"
    }
   ],
   "source": [
    "scatter_matrix(df_new, alpha=0.2, figsize=(12, 12), diagonal='kde')"
   ]
  },
  {
   "cell_type": "code",
   "execution_count": 18,
   "metadata": {},
   "outputs": [
    {
     "data": {
      "image/png": "[encoded data removed]",
      "text/plain": [
       "<matplotlib.figure.Figure at 0x10c41b198>"
      ]
     },
     "metadata": {},
     "output_type": "display_data"
    }
   ],
   "source": [
    "plt.show()"
   ]
  },
  {
   "cell_type": "code",
   "execution_count": 19,
   "metadata": {},
   "outputs": [
    {
     "data": {
      "text/html": [
       "<div>\n",
       "<style>\n",
       "    .dataframe thead tr:only-child th {\n",
       "        text-align: right;\n",
       "    }\n",
       "\n",
       "    .dataframe thead th {\n",
       "        text-align: left;\n",
       "    }\n",
       "\n",
       "    .dataframe tbody tr th {\n",
       "        vertical-align: top;\n",
       "    }\n",
       "</style>\n",
       "<table border=\"1\" class=\"dataframe\">\n",
       "  <thead>\n",
       "    <tr style=\"text-align: right;\">\n",
       "      <th></th>\n",
       "      <th>Avg.Median Home price</th>\n",
       "      <th>Immigration</th>\n",
       "      <th>Employers</th>\n",
       "      <th>Employees</th>\n",
       "      <th>AvgAnnualPay</th>\n",
       "      <th>New Homes Constructed</th>\n",
       "      <th>EstHouseholds</th>\n",
       "    </tr>\n",
       "  </thead>\n",
       "  <tbody>\n",
       "    <tr>\n",
       "      <th>Avg.Median Home price</th>\n",
       "      <td>1.000000</td>\n",
       "      <td>0.569903</td>\n",
       "      <td>0.783928</td>\n",
       "      <td>0.824421</td>\n",
       "      <td>0.848847</td>\n",
       "      <td>0.052245</td>\n",
       "      <td>0.851533</td>\n",
       "    </tr>\n",
       "    <tr>\n",
       "      <th>Immigration</th>\n",
       "      <td>0.569903</td>\n",
       "      <td>1.000000</td>\n",
       "      <td>0.337075</td>\n",
       "      <td>0.614992</td>\n",
       "      <td>0.403226</td>\n",
       "      <td>0.111774</td>\n",
       "      <td>0.422113</td>\n",
       "    </tr>\n",
       "    <tr>\n",
       "      <th>Employers</th>\n",
       "      <td>0.783928</td>\n",
       "      <td>0.337075</td>\n",
       "      <td>1.000000</td>\n",
       "      <td>0.711834</td>\n",
       "      <td>0.979868</td>\n",
       "      <td>-0.170805</td>\n",
       "      <td>0.975713</td>\n",
       "    </tr>\n",
       "    <tr>\n",
       "      <th>Employees</th>\n",
       "      <td>0.824421</td>\n",
       "      <td>0.614992</td>\n",
       "      <td>0.711834</td>\n",
       "      <td>1.000000</td>\n",
       "      <td>0.745824</td>\n",
       "      <td>0.352906</td>\n",
       "      <td>0.803312</td>\n",
       "    </tr>\n",
       "    <tr>\n",
       "      <th>AvgAnnualPay</th>\n",
       "      <td>0.848847</td>\n",
       "      <td>0.403226</td>\n",
       "      <td>0.979868</td>\n",
       "      <td>0.745824</td>\n",
       "      <td>1.000000</td>\n",
       "      <td>-0.144711</td>\n",
       "      <td>0.991875</td>\n",
       "    </tr>\n",
       "    <tr>\n",
       "      <th>New Homes Constructed</th>\n",
       "      <td>0.052245</td>\n",
       "      <td>0.111774</td>\n",
       "      <td>-0.170805</td>\n",
       "      <td>0.352906</td>\n",
       "      <td>-0.144711</td>\n",
       "      <td>1.000000</td>\n",
       "      <td>-0.074856</td>\n",
       "    </tr>\n",
       "    <tr>\n",
       "      <th>EstHouseholds</th>\n",
       "      <td>0.851533</td>\n",
       "      <td>0.422113</td>\n",
       "      <td>0.975713</td>\n",
       "      <td>0.803312</td>\n",
       "      <td>0.991875</td>\n",
       "      <td>-0.074856</td>\n",
       "      <td>1.000000</td>\n",
       "    </tr>\n",
       "  </tbody>\n",
       "</table>\n",
       "</div>"
      ],
      "text/plain": [
       "                       Avg.Median Home price  Immigration  Employers  \\\n",
       "Avg.Median Home price               1.000000     0.569903   0.783928   \n",
       "Immigration                         0.569903     1.000000   0.337075   \n",
       "Employers                           0.783928     0.337075   1.000000   \n",
       "Employees                           0.824421     0.614992   0.711834   \n",
       "AvgAnnualPay                        0.848847     0.403226   0.979868   \n",
       "New Homes Constructed               0.052245     0.111774  -0.170805   \n",
       "EstHouseholds                       0.851533     0.422113   0.975713   \n",
       "\n",
       "                       Employees  AvgAnnualPay  New Homes Constructed  \\\n",
       "Avg.Median Home price   0.824421      0.848847               0.052245   \n",
       "Immigration             0.614992      0.403226               0.111774   \n",
       "Employers               0.711834      0.979868              -0.170805   \n",
       "Employees               1.000000      0.745824               0.352906   \n",
       "AvgAnnualPay            0.745824      1.000000              -0.144711   \n",
       "New Homes Constructed   0.352906     -0.144711               1.000000   \n",
       "EstHouseholds           0.803312      0.991875              -0.074856   \n",
       "\n",
       "                       EstHouseholds  \n",
       "Avg.Median Home price       0.851533  \n",
       "Immigration                 0.422113  \n",
       "Employers                   0.975713  \n",
       "Employees                   0.803312  \n",
       "AvgAnnualPay                0.991875  \n",
       "New Homes Constructed      -0.074856  \n",
       "EstHouseholds               1.000000  "
      ]
     },
     "execution_count": 19,
     "metadata": {},
     "output_type": "execute_result"
    }
   ],
   "source": [
    "df_new.corr()"
   ]
  },
  {
   "cell_type": "code",
   "execution_count": 20,
   "metadata": {
    "collapsed": true
   },
   "outputs": [],
   "source": [
    "Final_df = df_new[[\"Avg.Median Home price\", \"AvgAnnualPay\",\"EstHouseholds\", \"Employees\"]]"
   ]
  },
  {
   "cell_type": "code",
   "execution_count": 21,
   "metadata": {},
   "outputs": [
    {
     "data": {
      "text/html": [
       "<div>\n",
       "<style>\n",
       "    .dataframe thead tr:only-child th {\n",
       "        text-align: right;\n",
       "    }\n",
       "\n",
       "    .dataframe thead th {\n",
       "        text-align: left;\n",
       "    }\n",
       "\n",
       "    .dataframe tbody tr th {\n",
       "        vertical-align: top;\n",
       "    }\n",
       "</style>\n",
       "<table border=\"1\" class=\"dataframe\">\n",
       "  <thead>\n",
       "    <tr style=\"text-align: right;\">\n",
       "      <th></th>\n",
       "      <th>Avg.Median Home price</th>\n",
       "      <th>AvgAnnualPay</th>\n",
       "      <th>EstHouseholds</th>\n",
       "      <th>Employees</th>\n",
       "    </tr>\n",
       "  </thead>\n",
       "  <tbody>\n",
       "    <tr>\n",
       "      <th>0</th>\n",
       "      <td>229890.0</td>\n",
       "      <td>29262</td>\n",
       "      <td>483745.0</td>\n",
       "      <td>589348</td>\n",
       "    </tr>\n",
       "    <tr>\n",
       "      <th>1</th>\n",
       "      <td>223200.0</td>\n",
       "      <td>30739</td>\n",
       "      <td>485019.0</td>\n",
       "      <td>580372</td>\n",
       "    </tr>\n",
       "    <tr>\n",
       "      <th>2</th>\n",
       "      <td>217370.0</td>\n",
       "      <td>31202</td>\n",
       "      <td>488485.0</td>\n",
       "      <td>581604</td>\n",
       "    </tr>\n",
       "    <tr>\n",
       "      <th>3</th>\n",
       "      <td>210010.0</td>\n",
       "      <td>32175</td>\n",
       "      <td>492503.0</td>\n",
       "      <td>582410</td>\n",
       "    </tr>\n",
       "    <tr>\n",
       "      <th>4</th>\n",
       "      <td>207880.0</td>\n",
       "      <td>33263</td>\n",
       "      <td>495897.0</td>\n",
       "      <td>604087</td>\n",
       "    </tr>\n",
       "  </tbody>\n",
       "</table>\n",
       "</div>"
      ],
      "text/plain": [
       "   Avg.Median Home price  AvgAnnualPay  EstHouseholds  Employees\n",
       "0               229890.0         29262       483745.0     589348\n",
       "1               223200.0         30739       485019.0     580372\n",
       "2               217370.0         31202       488485.0     581604\n",
       "3               210010.0         32175       492503.0     582410\n",
       "4               207880.0         33263       495897.0     604087"
      ]
     },
     "execution_count": 21,
     "metadata": {},
     "output_type": "execute_result"
    }
   ],
   "source": [
    "Final_df.head()"
   ]
  },
  {
   "cell_type": "code",
   "execution_count": 22,
   "metadata": {},
   "outputs": [
    {
     "data": {
      "text/plain": [
       "array([[<matplotlib.axes._subplots.AxesSubplot object at 0x1a16150c50>,\n",
       "        <matplotlib.axes._subplots.AxesSubplot object at 0x1a161cfeb8>,\n",
       "        <matplotlib.axes._subplots.AxesSubplot object at 0x1a16401f60>,\n",
       "        <matplotlib.axes._subplots.AxesSubplot object at 0x1a16436f60>],\n",
       "       [<matplotlib.axes._subplots.AxesSubplot object at 0x1a1646ef60>,\n",
       "        <matplotlib.axes._subplots.AxesSubplot object at 0x1a1646ef98>,\n",
       "        <matplotlib.axes._subplots.AxesSubplot object at 0x1a164dbd30>,\n",
       "        <matplotlib.axes._subplots.AxesSubplot object at 0x1a165202b0>],\n",
       "       [<matplotlib.axes._subplots.AxesSubplot object at 0x1a165587f0>,\n",
       "        <matplotlib.axes._subplots.AxesSubplot object at 0x1a165855c0>,\n",
       "        <matplotlib.axes._subplots.AxesSubplot object at 0x1a165bf630>,\n",
       "        <matplotlib.axes._subplots.AxesSubplot object at 0x1a165dd908>],\n",
       "       [<matplotlib.axes._subplots.AxesSubplot object at 0x1a16634630>,\n",
       "        <matplotlib.axes._subplots.AxesSubplot object at 0x1a165cd5c0>,\n",
       "        <matplotlib.axes._subplots.AxesSubplot object at 0x1a12444828>,\n",
       "        <matplotlib.axes._subplots.AxesSubplot object at 0x1a166975f8>]], dtype=object)"
      ]
     },
     "execution_count": 22,
     "metadata": {},
     "output_type": "execute_result"
    }
   ],
   "source": [
    "scatter_matrix(Final_df, alpha=0.2, figsize=(12, 12), diagonal='kde')"
   ]
  },
  {
   "cell_type": "code",
   "execution_count": 23,
   "metadata": {},
   "outputs": [
    {
     "data": {
      "image/png": "[encoded data removed]",
      "text/plain": [
       "<matplotlib.figure.Figure at 0x1a161906d8>"
      ]
     },
     "metadata": {},
     "output_type": "display_data"
    }
   ],
   "source": [
    "plt.show()"
   ]
  },
  {
   "cell_type": "code",
   "execution_count": 24,
   "metadata": {},
   "outputs": [
    {
     "data": {
      "text/html": [
       "<div>\n",
       "<style>\n",
       "    .dataframe thead tr:only-child th {\n",
       "        text-align: right;\n",
       "    }\n",
       "\n",
       "    .dataframe thead th {\n",
       "        text-align: left;\n",
       "    }\n",
       "\n",
       "    .dataframe tbody tr th {\n",
       "        vertical-align: top;\n",
       "    }\n",
       "</style>\n",
       "<table border=\"1\" class=\"dataframe\">\n",
       "  <thead>\n",
       "    <tr style=\"text-align: right;\">\n",
       "      <th></th>\n",
       "      <th>Avg.Median Home price</th>\n",
       "      <th>AvgAnnualPay</th>\n",
       "      <th>EstHouseholds</th>\n",
       "      <th>Employees</th>\n",
       "    </tr>\n",
       "  </thead>\n",
       "  <tbody>\n",
       "    <tr>\n",
       "      <th>Avg.Median Home price</th>\n",
       "      <td>1.000000</td>\n",
       "      <td>0.848847</td>\n",
       "      <td>0.851533</td>\n",
       "      <td>0.824421</td>\n",
       "    </tr>\n",
       "    <tr>\n",
       "      <th>AvgAnnualPay</th>\n",
       "      <td>0.848847</td>\n",
       "      <td>1.000000</td>\n",
       "      <td>0.991875</td>\n",
       "      <td>0.745824</td>\n",
       "    </tr>\n",
       "    <tr>\n",
       "      <th>EstHouseholds</th>\n",
       "      <td>0.851533</td>\n",
       "      <td>0.991875</td>\n",
       "      <td>1.000000</td>\n",
       "      <td>0.803312</td>\n",
       "    </tr>\n",
       "    <tr>\n",
       "      <th>Employees</th>\n",
       "      <td>0.824421</td>\n",
       "      <td>0.745824</td>\n",
       "      <td>0.803312</td>\n",
       "      <td>1.000000</td>\n",
       "    </tr>\n",
       "  </tbody>\n",
       "</table>\n",
       "</div>"
      ],
      "text/plain": [
       "                       Avg.Median Home price  AvgAnnualPay  EstHouseholds  \\\n",
       "Avg.Median Home price               1.000000      0.848847       0.851533   \n",
       "AvgAnnualPay                        0.848847      1.000000       0.991875   \n",
       "EstHouseholds                       0.851533      0.991875       1.000000   \n",
       "Employees                           0.824421      0.745824       0.803312   \n",
       "\n",
       "                       Employees  \n",
       "Avg.Median Home price   0.824421  \n",
       "AvgAnnualPay            0.745824  \n",
       "EstHouseholds           0.803312  \n",
       "Employees               1.000000  "
      ]
     },
     "execution_count": 24,
     "metadata": {},
     "output_type": "execute_result"
    }
   ],
   "source": [
    "Final_df.corr()"
   ]
  },
  {
   "cell_type": "markdown",
   "metadata": {},
   "source": [
    "# Linear Regression Model"
   ]
  },
  {
   "cell_type": "markdown",
   "metadata": {},
   "source": [
    "## Build multi-variate Linear regression model,\n",
    "\n",
    "    Dependent Variable = Avg.Median Home price\t\n",
    "    Predictor Variables/Features = Employees, EstHouseholds, AvgAnnualPay\t"
   ]
  },
  {
   "cell_type": "code",
   "execution_count": 25,
   "metadata": {},
   "outputs": [
    {
     "name": "stdout",
     "output_type": "stream",
     "text": [
      "(26, 3) (26, 1)\n"
     ]
    }
   ],
   "source": [
    "# Assign the data to X and y\n",
    "\n",
    "X = Final_df[[\"Employees\", \"EstHouseholds\", \"AvgAnnualPay\"]]\n",
    "y = Final_df[\"Avg.Median Home price\"].values.reshape(-1, 1)\n",
    "print(X.shape, y.shape)"
   ]
  },
  {
   "cell_type": "code",
   "execution_count": 26,
   "metadata": {
    "collapsed": true
   },
   "outputs": [],
   "source": [
    "# Use train_test_split to create training and testing data\n",
    "\n",
    "### BEGIN SOLUTION\n",
    "from sklearn.model_selection import train_test_split\n",
    "\n",
    "X_train, X_test, y_train, y_test = train_test_split(X, y, random_state=31)\n",
    "\n",
    "### END SOLUTION"
   ]
  },
  {
   "cell_type": "code",
   "execution_count": 27,
   "metadata": {
    "collapsed": true
   },
   "outputs": [],
   "source": [
    "# Create the model using LinearRegression\n",
    "\n",
    "### BEGIN SOLUTION\n",
    "from sklearn.linear_model import LinearRegression\n",
    "model = LinearRegression()\n",
    "### END SOLUTION"
   ]
  },
  {
   "cell_type": "code",
   "execution_count": 28,
   "metadata": {},
   "outputs": [
    {
     "name": "stdout",
     "output_type": "stream",
     "text": [
      "Training Score: 0.8299125149727129\n",
      "Testing Score: 0.8581083363584789\n"
     ]
    }
   ],
   "source": [
    "# Fit the model to the training data and calculate the scores for the training and testing data\n",
    "\n",
    "### BEGIN SOLUTION\n",
    "model.fit(X_train, y_train)\n",
    "training_score = model.score(X_train, y_train)\n",
    "testing_score = model.score(X_test, y_test)\n",
    "\n",
    "### END SOLUTION \n",
    "\n",
    "print(f\"Training Score: {training_score}\")\n",
    "print(f\"Testing Score: {testing_score}\")"
   ]
  },
  {
   "cell_type": "code",
   "execution_count": 29,
   "metadata": {},
   "outputs": [
    {
     "name": "stdout",
     "output_type": "stream",
     "text": [
      "Liner Regression RMSE: 76025.5690\n"
     ]
    }
   ],
   "source": [
    "from sklearn.metrics import mean_squared_error\n",
    "y_pred = model.predict(X_test)\n",
    "\n",
    "lin_mse = mean_squared_error(y_pred, y_test)\n",
    "lin_rmse = np.sqrt(lin_mse)\n",
    "print('Liner Regression RMSE: %.4f' % lin_rmse)"
   ]
  },
  {
   "cell_type": "code",
   "execution_count": 30,
   "metadata": {},
   "outputs": [
    {
     "name": "stdout",
     "output_type": "stream",
     "text": [
      "Weight coefficients:  [[  3.49006652 -16.94945153  34.53469228]]\n",
      "y-axis intercept:  [ 5363549.14036958]\n"
     ]
    }
   ],
   "source": [
    "### BEGIN SOLUTION\n",
    "print('Weight coefficients: ', model.coef_)\n",
    "print('y-axis intercept: ', model.intercept_)\n",
    "### END SOLUTION"
   ]
  },
  {
   "cell_type": "code",
   "execution_count": 31,
   "metadata": {},
   "outputs": [
    {
     "data": {
      "image/png": "[encoded data removed]",
      "text/plain": [
       "<matplotlib.figure.Figure at 0x1a167edcf8>"
      ]
     },
     "metadata": {},
     "output_type": "display_data"
    }
   ],
   "source": [
    "# Plot the Residuals for the Training and Testing data\n",
    "\n",
    "### BEGIN SOLUTION\n",
    "plt.scatter(model.predict(X_train), model.predict(X_train) - y_train, c=\"blue\", label=\"Training Data\")\n",
    "plt.scatter(model.predict(X_test), model.predict(X_test) - y_test, c=\"orange\", label=\"Testing Data\")\n",
    "plt.legend()\n",
    "plt.hlines(y=0, xmin=y.min(), xmax=y.max())\n",
    "plt.title(\"Residual Plot\")\n",
    "plt.show()\n",
    "### END SOLUTION"
   ]
  },
  {
   "cell_type": "markdown",
   "metadata": {
    "collapsed": true
   },
   "source": [
    "## ADVANCE MODEL"
   ]
  },
  {
   "cell_type": "markdown",
   "metadata": {},
   "source": [
    "### RANDOM FOREST"
   ]
  },
  {
   "cell_type": "code",
   "execution_count": 32,
   "metadata": {},
   "outputs": [
    {
     "name": "stderr",
     "output_type": "stream",
     "text": [
      "/Users/niyatidesai/anaconda3/envs/pythondata_3/lib/python3.6/site-packages/ipykernel_launcher.py:4: DataConversionWarning: A column-vector y was passed when a 1d array was expected. Please change the shape of y to (n_samples,), for example using ravel().\n",
      "  after removing the cwd from sys.path.\n"
     ]
    },
    {
     "data": {
      "text/plain": [
       "RandomForestRegressor(bootstrap=True, criterion='mse', max_depth=None,\n",
       "           max_features='auto', max_leaf_nodes=None,\n",
       "           min_impurity_decrease=0.0, min_impurity_split=None,\n",
       "           min_samples_leaf=1, min_samples_split=2,\n",
       "           min_weight_fraction_leaf=0.0, n_estimators=10, n_jobs=1,\n",
       "           oob_score=False, random_state=31, verbose=0, warm_start=False)"
      ]
     },
     "execution_count": 32,
     "metadata": {},
     "output_type": "execute_result"
    }
   ],
   "source": [
    "from sklearn.ensemble import RandomForestRegressor\n",
    "\n",
    "forest_reg = RandomForestRegressor(random_state=31)\n",
    "forest_reg.fit(X_train, y_train)"
   ]
  },
  {
   "cell_type": "code",
   "execution_count": 33,
   "metadata": {},
   "outputs": [
    {
     "name": "stdout",
     "output_type": "stream",
     "text": [
      "Random Forest R squared\": 0.7799\n"
     ]
    }
   ],
   "source": [
    "print('Random Forest R squared\": %.4f' % forest_reg.score(X_test, y_test))"
   ]
  },
  {
   "cell_type": "code",
   "execution_count": 34,
   "metadata": {},
   "outputs": [
    {
     "name": "stdout",
     "output_type": "stream",
     "text": [
      "Random Forest RMSE: 94690.4608\n"
     ]
    }
   ],
   "source": [
    "from sklearn.metrics import mean_squared_error\n",
    "\n",
    "y_pred = forest_reg.predict(X_test)\n",
    "forest_mse = mean_squared_error(y_pred, y_test)\n",
    "forest_rmse = np.sqrt(forest_mse)\n",
    "print('Random Forest RMSE: %.4f' % forest_rmse)"
   ]
  },
  {
   "cell_type": "markdown",
   "metadata": {},
   "source": [
    "## Gradient boosting"
   ]
  },
  {
   "cell_type": "code",
   "execution_count": 35,
   "metadata": {},
   "outputs": [
    {
     "name": "stderr",
     "output_type": "stream",
     "text": [
      "/Users/niyatidesai/anaconda3/envs/pythondata_3/lib/python3.6/site-packages/sklearn/utils/validation.py:578: DataConversionWarning: A column-vector y was passed when a 1d array was expected. Please change the shape of y to (n_samples, ), for example using ravel().\n",
      "  y = column_or_1d(y, warn=True)\n"
     ]
    },
    {
     "data": {
      "text/plain": [
       "GradientBoostingRegressor(alpha=0.9, criterion='friedman_mse', init=None,\n",
       "             learning_rate=0.1, loss='ls', max_depth=3, max_features=None,\n",
       "             max_leaf_nodes=None, min_impurity_decrease=0.0,\n",
       "             min_impurity_split=None, min_samples_leaf=1,\n",
       "             min_samples_split=2, min_weight_fraction_leaf=0.0,\n",
       "             n_estimators=100, presort='auto', random_state=None,\n",
       "             subsample=1.0, verbose=0, warm_start=False)"
      ]
     },
     "execution_count": 35,
     "metadata": {},
     "output_type": "execute_result"
    }
   ],
   "source": [
    "from sklearn import ensemble\n",
    "from sklearn.ensemble import GradientBoostingRegressor\n",
    "model = ensemble.GradientBoostingRegressor()\n",
    "model.fit(X_train, y_train)"
   ]
  },
  {
   "cell_type": "code",
   "execution_count": 36,
   "metadata": {},
   "outputs": [
    {
     "name": "stdout",
     "output_type": "stream",
     "text": [
      "Gradient Boosting R squared\": 0.9598\n"
     ]
    }
   ],
   "source": [
    "print('Gradient Boosting R squared\": %.4f' % model.score(X_test, y_test))"
   ]
  },
  {
   "cell_type": "code",
   "execution_count": 37,
   "metadata": {},
   "outputs": [
    {
     "name": "stdout",
     "output_type": "stream",
     "text": [
      "Gradient Boosting RMSE: 40464.5395\n"
     ]
    }
   ],
   "source": [
    "y_pred = model.predict(X_test)\n",
    "model_mse = mean_squared_error(y_pred, y_test)\n",
    "model_rmse = np.sqrt(model_mse)\n",
    "print('Gradient Boosting RMSE: %.4f' % model_rmse)"
   ]
  },
  {
   "cell_type": "code",
   "execution_count": null,
   "metadata": {
    "collapsed": true
   },
   "outputs": [],
   "source": []
  }
 ],
 "metadata": {
  "kernelspec": {
   "display_name": "pythondata_3",
   "language": "python",
   "name": "pythondata_3"
  },
  "language_info": {
   "codemirror_mode": {
    "name": "ipython",
    "version": 3
   },
   "file_extension": ".py",
   "mimetype": "text/x-python",
   "name": "python",
   "nbconvert_exporter": "python",
   "pygments_lexer": "ipython3",
   "version": "3.6.3"
  }
 },
 "nbformat": 4,
 "nbformat_minor": 2
}
