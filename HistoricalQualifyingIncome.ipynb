{
 "cells": [
  {
   "cell_type": "code",
   "execution_count": 1,
   "metadata": {},
   "outputs": [],
   "source": [
    "import numpy as np\n",
    "import pandas as pd\n",
    "import matplotlib.pyplot as plt\n",
    "import json\n",
    "\n",
    "import csv\n",
    "import os"
   ]
  },
  {
   "cell_type": "code",
   "execution_count": 30,
   "metadata": {},
   "outputs": [
    {
     "ename": "SyntaxError",
     "evalue": "unexpected EOF while parsing (<ipython-input-30-30322c091ec2>, line 51)",
     "output_type": "error",
     "traceback": [
      "\u001b[1;36m  File \u001b[1;32m\"<ipython-input-30-30322c091ec2>\"\u001b[1;36m, line \u001b[1;32m51\u001b[0m\n\u001b[1;33m    combinedDf.to_csv(os.path.join(\"resources\",\"HistoricalData\",\"MinimumQualifyingIncome.csv\")\u001b[0m\n\u001b[1;37m                                                                                              ^\u001b[0m\n\u001b[1;31mSyntaxError\u001b[0m\u001b[1;31m:\u001b[0m unexpected EOF while parsing\n"
     ]
    }
   ],
   "source": [
    "CountyLevelDF = pd.read_csv(os.path.join(\"resources\",\"HistoricalData\",\"CountyLevelSummary.csv\"))\n",
    "CountyLevelDF = CountyLevelDF.drop([\"Unnamed: 0\"], axis=1)\n",
    "CountyLevelDF = CountyLevelDF[[\"Year\",\"County\",\"Avg.Median Home price\",\"Interest_Rate\"]]\n",
    "\n",
    "BayAreaDF1 = pd.read_csv(os.path.join(\"resources\",\"HistoricalData\",\"BayAreaSummary.csv\"))\n",
    "BayAreaDF = BayAreaDF1.drop([\"Unnamed: 0\"], axis=1)\n",
    "BayAreaDF = BayAreaDF[[\"Year\",\"Avg.Median Home price\",\"Interest_Rate\"]]\n",
    "BayAreaDF[\"County\"] = \"Bay Area\"\n",
    "BayAreaDF\n",
    "\n",
    "frames = [CountyLevelDF,BayAreaDF]\n",
    "combinedDf = pd.concat(frames)\n",
    "combinedDf[\"MedLoanAmt\"] = combinedDf[\"Avg.Median Home price\"] - combinedDf[\"Avg.Median Home price\"]*0.2\n",
    "combinedDf[\"MthlyMortPay\"] =  np.round((np.pmt(combinedDf[\"Interest_Rate\"]/1200,360,combinedDf[\"MedLoanAmt\"]))*(-1))\n",
    "combinedDf[\"MthlyTax\"]  =  np.round(combinedDf[\"Avg.Median Home price\"]*0.01)/12\n",
    "combinedDf[\"MthlyIns\"]  =np.round(combinedDf[\"Avg.Median Home price\"] * 0.0038)/12\n",
    "combinedDf[\"MthlyHousingCost\"] = combinedDf[\"MthlyMortPay\"] +combinedDf[\"MthlyTax\"] +combinedDf[\"MthlyIns\"] \n",
    "combinedDf[\"MthlyMinIncome\"]=  np.round(combinedDf[\"MthlyHousingCost\"]/0.3)\n",
    "combinedDf[\"QualifyingIncome\"] = combinedDf[\"MthlyMinIncome\"]*12\n",
    "\n",
    "\n",
    "# Change MedianHomePrice as  needed.\n",
    "#medianHomePrice = 1610000\n",
    "\n",
    "# Assuming 20% down paymnet - Does not change\n",
    "#downpayment = 20\n",
    "\n",
    "#loanAmount = medianHomePrice - ((medianHomePrice* 0.2)\n",
    "\n",
    "# Assuming that today's 30 year fixed interest rates into future - Does not change\n",
    "#interest = 4.93\n",
    "\n",
    "#monthlyMortgagePayment = np.round((np.pmt(interest/1200,360,loanAmount))*(-1))\n",
    "\n",
    "#Assuming 1% property taxes\n",
    "#propertyTaxes  = np.round(medianHomePrice*0.01)/12\n",
    "\n",
    "#Assuming 0.38 percent insurance payment\n",
    "#insurancePayment = np.round(medianHomePrice * 0.0038)/12\n",
    "\n",
    "# Total Monthly housing cost\n",
    "\n",
    "#totalMonthyHousingCost = monthlyMortgagePayment +propertyTaxes+insurancePayment\n",
    "\n",
    "#minimum monthly salary you need to afford to own a home at the meadian price level\n",
    "#minimumMonthlyIncome = np.round(totalMonthyHousingCost/0.3)\n",
    "\n",
    "#minimum annual salary you need to afford to own a home at the meadian price level\n",
    "#minimumAnnualIncome = minimumMonthlyIncome*12\n",
    "combinedDf  =  combinedDf[[\"Year\",\"County\",\"Avg.Median Home price\",\"Interest_Rate\",\"QualifyingIncome\"]]\n",
    "combinedDf.to_csv(os.path.join(\"resources\",\"HistoricalData\",\"MinimumQualifyingIncome.csv\"))\n",
    "\n"
   ]
  },
  {
   "cell_type": "code",
   "execution_count": null,
   "metadata": {},
   "outputs": [],
   "source": []
  },
  {
   "cell_type": "code",
   "execution_count": null,
   "metadata": {},
   "outputs": [],
   "source": []
  }
 ],
 "metadata": {
  "kernelspec": {
   "display_name": "Python 3",
   "language": "python",
   "name": "python3"
  },
  "language_info": {
   "codemirror_mode": {
    "name": "ipython",
    "version": 3
   },
   "file_extension": ".py",
   "mimetype": "text/x-python",
   "name": "python",
   "nbconvert_exporter": "python",
   "pygments_lexer": "ipython3",
   "version": "3.6.5"
  }
 },
 "nbformat": 4,
 "nbformat_minor": 2
}
